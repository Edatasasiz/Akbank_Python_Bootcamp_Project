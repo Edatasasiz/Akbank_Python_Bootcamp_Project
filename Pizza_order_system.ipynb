{
 "cells": [
  {
   "cell_type": "code",
   "execution_count": 338,
   "id": "e5f4d1ec",
   "metadata": {},
   "outputs": [],
   "source": [
    "import csv"
   ]
  },
  {
   "cell_type": "code",
   "execution_count": 339,
   "id": "ab61eff9",
   "metadata": {},
   "outputs": [],
   "source": [
    "import datetime"
   ]
  },
  {
   "cell_type": "code",
   "execution_count": 340,
   "id": "742e117d",
   "metadata": {},
   "outputs": [],
   "source": [
    "# Pizza super class'ını oluşturalım."
   ]
  },
  {
   "cell_type": "code",
   "execution_count": 341,
   "id": "dc64c463",
   "metadata": {},
   "outputs": [],
   "source": [
    "class Pizza:\n",
    "    \n",
    "    def get_description(self):\n",
    "        return self.__class__.__name__\n",
    "    \n",
    "    def get_cost(self):\n",
    "        return self.__class__.cost"
   ]
  },
  {
   "cell_type": "code",
   "execution_count": 342,
   "id": "62222e2e",
   "metadata": {},
   "outputs": [],
   "source": [
    "# Pizza subclass'larını oluşturalım."
   ]
  },
  {
   "cell_type": "code",
   "execution_count": 343,
   "id": "6992da74",
   "metadata": {},
   "outputs": [],
   "source": [
    "class Classic(Pizza):\n",
    "    def __init__(self):\n",
    "        self.description = \"Ingredients: Mozzarella Cheese, Sausage, Sausage, Mushroom, Green Pepper, Corn\"\n",
    "        print(self.description)\n",
    "        \n",
    "    cost = 124.00 "
   ]
  },
  {
   "cell_type": "code",
   "execution_count": 344,
   "id": "f49369ba",
   "metadata": {},
   "outputs": [],
   "source": [
    "class Margherita(Pizza):\n",
    "    def __init__(self):\n",
    "        self.description = \"Ingredients: Mozzarella Cheese,Tomato,Basil\"\n",
    "        print(self.description)\n",
    "        \n",
    "    cost = 119.00    "
   ]
  },
  {
   "cell_type": "code",
   "execution_count": 345,
   "id": "e4ec4d9a",
   "metadata": {},
   "outputs": [],
   "source": [
    "class TurkPizza(Pizza):\n",
    "    def __init__(self):\n",
    "        self.description = \"Mozzarella Cheese, Meat, Mushroom, Green Pepper, Onion\"\n",
    "        print(self.description)\n",
    "        \n",
    "    cost = 134.00    "
   ]
  },
  {
   "cell_type": "code",
   "execution_count": 346,
   "id": "1e3ba4fb",
   "metadata": {},
   "outputs": [],
   "source": [
    "class PlainPizza(Pizza):\n",
    "    def __init__(self):\n",
    "        self.description = \"Mozzarella Cheese, Feta Cheese, Tomato Cubes, Black Olives, Thyme\"\n",
    "        print(self.description)\n",
    "        \n",
    "    cost = 100.00    "
   ]
  },
  {
   "cell_type": "code",
   "execution_count": 347,
   "id": "83f9c041",
   "metadata": {},
   "outputs": [],
   "source": [
    "# Decorator adlı sosların super class'ını oluşturalım. Bu class, pizza superclassının özelliklerini kullanacak."
   ]
  },
  {
   "cell_type": "code",
   "execution_count": 348,
   "id": "1c8d7dac",
   "metadata": {},
   "outputs": [],
   "source": [
    "class Decorator(Pizza):\n",
    "    def __init__(self,sauce):\n",
    "        self.component = sauce\n",
    "   \n",
    "    def get_cost(self):\n",
    "        return self.component.get_cost() + \\\n",
    "            Pizza.get_cost(self)\n",
    "    \n",
    "    def get_description(self):\n",
    "        return self.component.get_description() + \\\n",
    "            ' ' + Pizza.get_description(self)    \n",
    "        "
   ]
  },
  {
   "cell_type": "code",
   "execution_count": 349,
   "id": "d6b9fd12",
   "metadata": {},
   "outputs": [],
   "source": [
    "# Decorator'ın subclasslarını oluşturalım."
   ]
  },
  {
   "cell_type": "code",
   "execution_count": 350,
   "id": "57675291",
   "metadata": {},
   "outputs": [],
   "source": [
    "class Olives(Decorator):\n",
    "    def __init__(self,sauce):\n",
    "        Decorator.__init__(self,sauce)\n",
    "        \n",
    "    cost = 2.0"
   ]
  },
  {
   "cell_type": "code",
   "execution_count": 351,
   "id": "b43b0460",
   "metadata": {},
   "outputs": [],
   "source": [
    "class Mushrooms(Decorator):\n",
    "    def __init__(self,sauce):\n",
    "        Decorator.__init__(self,sauce)\n",
    "        \n",
    "    cost = 3.0"
   ]
  },
  {
   "cell_type": "code",
   "execution_count": 352,
   "id": "725d91fe",
   "metadata": {},
   "outputs": [],
   "source": [
    "class GoatCheese(Decorator):\n",
    "    def __init__(self,sauce):\n",
    "        Decorator.__init__(self,sauce)\n",
    "        \n",
    "    cost = 5.0"
   ]
  },
  {
   "cell_type": "code",
   "execution_count": 353,
   "id": "c777c2e2",
   "metadata": {},
   "outputs": [],
   "source": [
    "class Meat(Decorator):\n",
    "    def __init__(self,sauce):\n",
    "        Decorator.__init__(self,sauce)\n",
    "        \n",
    "    cost = 8.0"
   ]
  },
  {
   "cell_type": "code",
   "execution_count": 354,
   "id": "3d55cf2e",
   "metadata": {},
   "outputs": [],
   "source": [
    "class Onions(Decorator):\n",
    "    def __init__(self,sauce):\n",
    "        Decorator.__init__(self,sauce)\n",
    "        \n",
    "    cost = 2.5"
   ]
  },
  {
   "cell_type": "code",
   "execution_count": 355,
   "id": "c1d8aa76",
   "metadata": {},
   "outputs": [],
   "source": [
    "class Corn(Decorator):\n",
    "    def __init__(self,sauce):\n",
    "        Decorator.__init__(self,sauce)\n",
    "        \n",
    "    cost = 4.0"
   ]
  },
  {
   "cell_type": "code",
   "execution_count": 356,
   "id": "1f07092a",
   "metadata": {},
   "outputs": [],
   "source": [
    "# Menüyü ekrana yazdıralım. Sonra müşterinin seçim yapmasını sağlayalım."
   ]
  },
  {
   "cell_type": "code",
   "execution_count": 357,
   "id": "3b36fe18",
   "metadata": {},
   "outputs": [],
   "source": [
    "def main():\n",
    "    with open(\"MENU.txt\") as order_menu:\n",
    "        for i in order_menu:\n",
    "            print(i, end=\"\")"
   ]
  },
  {
   "cell_type": "code",
   "execution_count": 358,
   "id": "6128335c",
   "metadata": {},
   "outputs": [],
   "source": [
    "    menu = { 1: Classic, \n",
    "             2: Margherita, \n",
    "             3: TurkPizza, \n",
    "             4: PlainPizza, \n",
    "            11: Olives, \n",
    "            12: Mushrooms, \n",
    "            13: GoatCheese, \n",
    "            14: Meat, \n",
    "            15: Onions, \n",
    "            16: Corn}"
   ]
  },
  {
   "cell_type": "code",
   "execution_count": 359,
   "id": "2c279d65",
   "metadata": {},
   "outputs": [
    {
     "name": "stdout",
     "output_type": "stream",
     "text": [
      "Enter the pizza number to order: Deniz Cicek\n",
      "You entered the wrong number.4\n",
      "Mozzarella Cheese, Feta Cheese, Tomato Cubes, Black Olives, Thyme\n"
     ]
    }
   ],
   "source": [
    "    number = input(\"Enter the pizza number to order: \")\n",
    "    while number not in [\"1\", \"2\", \"3\", \"4\"]:\n",
    "            number = input(\"You entered the wrong number.\")\n",
    "    order = menu[int(number)]()"
   ]
  },
  {
   "cell_type": "code",
   "execution_count": 360,
   "id": "2d5081ab",
   "metadata": {},
   "outputs": [
    {
     "name": "stdout",
     "output_type": "stream",
     "text": [
      "Enter the sauce number to order: 16\n"
     ]
    }
   ],
   "source": [
    "    number = input(\"Enter the sauce number to order: \")\n",
    "    if number in [\"11\", \"12\", \"13\", \"14\", \"15\", \"16\"]:\n",
    "        order = menu[int(number)](order)    "
   ]
  },
  {
   "cell_type": "code",
   "execution_count": 361,
   "id": "cbde453c",
   "metadata": {},
   "outputs": [],
   "source": [
    "# Seçilen ürünlerin toplam fiyatını ekrana yazdıralım."
   ]
  },
  {
   "cell_type": "code",
   "execution_count": 362,
   "id": "5f5e62ae",
   "metadata": {},
   "outputs": [
    {
     "name": "stdout",
     "output_type": "stream",
     "text": [
      "\n",
      "PlainPizza Corn: ₺104.0\n",
      "\n",
      "\n"
     ]
    }
   ],
   "source": [
    "    print(\"\\n\"+ order.get_description().strip() +\n",
    "              \": ₺\" + str(order.get_cost()))\n",
    "    print(\"\\n\")"
   ]
  },
  {
   "cell_type": "code",
   "execution_count": null,
   "id": "6849063c",
   "metadata": {},
   "outputs": [],
   "source": []
  },
  {
   "cell_type": "code",
   "execution_count": 363,
   "id": "cfe7250e",
   "metadata": {},
   "outputs": [],
   "source": [
    "# Kullanıcıdan istenilen bilgileri girmesini isteyelim."
   ]
  },
  {
   "cell_type": "code",
   "execution_count": 364,
   "id": "96138c2e",
   "metadata": {},
   "outputs": [
    {
     "name": "stdout",
     "output_type": "stream",
     "text": [
      "Your Order Information:\n"
     ]
    }
   ],
   "source": [
    "    print(\"Your Order Information:\")"
   ]
  },
  {
   "cell_type": "code",
   "execution_count": 365,
   "id": "b7f8e83e",
   "metadata": {},
   "outputs": [
    {
     "name": "stdout",
     "output_type": "stream",
     "text": [
      "Your name and surname: Deniz Cicek\n"
     ]
    }
   ],
   "source": [
    "    name_surname = input(\"Your name and surname: \")"
   ]
  },
  {
   "cell_type": "code",
   "execution_count": 366,
   "id": "dc7079af",
   "metadata": {},
   "outputs": [
    {
     "name": "stdout",
     "output_type": "stream",
     "text": [
      "Your TC Identification Number: 45612378945\n"
     ]
    }
   ],
   "source": [
    "    ID_number = input(\"Your TC Identification Number: \")"
   ]
  },
  {
   "cell_type": "code",
   "execution_count": 367,
   "id": "d03ae99e",
   "metadata": {},
   "outputs": [
    {
     "name": "stdout",
     "output_type": "stream",
     "text": [
      "Your Credit Card Number: 4444-6666-8888-2222\n"
     ]
    }
   ],
   "source": [
    "    credit_card_number = input(\"Your Credit Card Number: \")"
   ]
  },
  {
   "cell_type": "code",
   "execution_count": 368,
   "id": "59b9806d",
   "metadata": {},
   "outputs": [
    {
     "name": "stdout",
     "output_type": "stream",
     "text": [
      "Your Credit Card Password: 1596\n"
     ]
    }
   ],
   "source": [
    "    credit_card_password = input(\"Your Credit Card Password: \")"
   ]
  },
  {
   "cell_type": "code",
   "execution_count": 369,
   "id": "8bd4c6ea",
   "metadata": {},
   "outputs": [],
   "source": [
    "    order_time = datetime.datetime.now()"
   ]
  },
  {
   "cell_type": "code",
   "execution_count": null,
   "id": "2de8690d",
   "metadata": {},
   "outputs": [],
   "source": []
  },
  {
   "cell_type": "code",
   "execution_count": 370,
   "id": "fa64a03d",
   "metadata": {},
   "outputs": [],
   "source": [
    "# Veritabanı olarak adlandırdığımız \"Orders_Database.csv\" dosyasına girilen tüm bilgileri ekleyelim."
   ]
  },
  {
   "cell_type": "code",
   "execution_count": 371,
   "id": "75dbcfa4",
   "metadata": {},
   "outputs": [
    {
     "name": "stdout",
     "output_type": "stream",
     "text": [
      "Your order has been confirmed.\n"
     ]
    }
   ],
   "source": [
    "    with open(\"Orders_Database.csv\", 'a') as orders:\n",
    "            orders = csv.writer(orders, delimiter=',')\n",
    "            orders.writerow([name_surname, ID_number, credit_card_number, credit_card_password, order.get_description(), order_time])\n",
    "    print(\"Your order has been confirmed.\")\n",
    "\n",
    "   "
   ]
  },
  {
   "cell_type": "code",
   "execution_count": 372,
   "id": "13c53ec3",
   "metadata": {},
   "outputs": [
    {
     "name": "stdout",
     "output_type": "stream",
     "text": [
      "* Please Choose a Pizza Base: \n",
      "1: Classic \n",
      "2: Margherita \n",
      "3: TurkPizza \n",
      "4: PlainPizza \n",
      "* and sauce of your choice: \n",
      "11: Olives \n",
      "12: Mushrooms \n",
      "13: GoatCheese \n",
      "14: Meat \n",
      "15: Onions \n",
      "16: Corn \n",
      "* Thank you!"
     ]
    }
   ],
   "source": [
    "main()"
   ]
  },
  {
   "cell_type": "code",
   "execution_count": null,
   "id": "6d282600",
   "metadata": {},
   "outputs": [],
   "source": []
  }
 ],
 "metadata": {
  "kernelspec": {
   "display_name": "Python 3 (ipykernel)",
   "language": "python",
   "name": "python3"
  },
  "language_info": {
   "codemirror_mode": {
    "name": "ipython",
    "version": 3
   },
   "file_extension": ".py",
   "mimetype": "text/x-python",
   "name": "python",
   "nbconvert_exporter": "python",
   "pygments_lexer": "ipython3",
   "version": "3.9.13"
  }
 },
 "nbformat": 4,
 "nbformat_minor": 5
}
