{
 "cells": [
  {
   "cell_type": "code",
   "execution_count": 373,
   "id": "e5f4d1ec",
   "metadata": {},
   "outputs": [],
   "source": [
    "import csv"
   ]
  },
  {
   "cell_type": "code",
   "execution_count": 374,
   "id": "ab61eff9",
   "metadata": {},
   "outputs": [],
   "source": [
    "import datetime"
   ]
  },
  {
   "cell_type": "code",
   "execution_count": 375,
   "id": "742e117d",
   "metadata": {},
   "outputs": [],
   "source": [
    "# Pizza super class'ını oluşturalım."
   ]
  },
  {
   "cell_type": "code",
   "execution_count": 376,
   "id": "dc64c463",
   "metadata": {},
   "outputs": [],
   "source": [
    "class Pizza:\n",
    "    \n",
    "    def get_description(self):\n",
    "        return self.__class__.__name__\n",
    "    \n",
    "    def get_cost(self):\n",
    "        return self.__class__.cost"
   ]
  },
  {
   "cell_type": "code",
   "execution_count": 377,
   "id": "62222e2e",
   "metadata": {},
   "outputs": [],
   "source": [
    "# Pizza subclass'larını oluşturalım."
   ]
  },
  {
   "cell_type": "code",
   "execution_count": 378,
   "id": "6992da74",
   "metadata": {},
   "outputs": [],
   "source": [
    "class Classic(Pizza):\n",
    "    def __init__(self):\n",
    "        self.description = \"Ingredients: Mozzarella Cheese, Sausage, Sausage, Mushroom, Green Pepper, Corn\"\n",
    "        print(self.description)\n",
    "        \n",
    "    cost = 124.00 "
   ]
  },
  {
   "cell_type": "code",
   "execution_count": 379,
   "id": "f49369ba",
   "metadata": {},
   "outputs": [],
   "source": [
    "class Margherita(Pizza):\n",
    "    def __init__(self):\n",
    "        self.description = \"Ingredients: Mozzarella Cheese,Tomato,Basil\"\n",
    "        print(self.description)\n",
    "        \n",
    "    cost = 119.00    "
   ]
  },
  {
   "cell_type": "code",
   "execution_count": 380,
   "id": "e4ec4d9a",
   "metadata": {},
   "outputs": [],
   "source": [
    "class TurkPizza(Pizza):\n",
    "    def __init__(self):\n",
    "        self.description = \"Mozzarella Cheese, Meat, Mushroom, Green Pepper, Onion\"\n",
    "        print(self.description)\n",
    "        \n",
    "    cost = 134.00    "
   ]
  },
  {
   "cell_type": "code",
   "execution_count": 381,
   "id": "1e3ba4fb",
   "metadata": {},
   "outputs": [],
   "source": [
    "class PlainPizza(Pizza):\n",
    "    def __init__(self):\n",
    "        self.description = \"Mozzarella Cheese, Feta Cheese, Tomato Cubes, Black Olives, Thyme\"\n",
    "        print(self.description)\n",
    "        \n",
    "    cost = 100.00    "
   ]
  },
  {
   "cell_type": "code",
   "execution_count": 382,
   "id": "83f9c041",
   "metadata": {},
   "outputs": [],
   "source": [
    "# Decorator adlı sosların super class'ını oluşturalım. Bu class, pizza superclassının özelliklerini kullanacak."
   ]
  },
  {
   "cell_type": "code",
   "execution_count": 383,
   "id": "1c8d7dac",
   "metadata": {},
   "outputs": [],
   "source": [
    "class Decorator(Pizza):\n",
    "    def __init__(self,sauce):\n",
    "        self.component = sauce\n",
    "   \n",
    "    def get_cost(self):\n",
    "        return self.component.get_cost() + \\\n",
    "            Pizza.get_cost(self)\n",
    "    \n",
    "    def get_description(self):\n",
    "        return self.component.get_description() + \\\n",
    "            ' ' + Pizza.get_description(self)    \n",
    "        "
   ]
  },
  {
   "cell_type": "code",
   "execution_count": 384,
   "id": "d6b9fd12",
   "metadata": {},
   "outputs": [],
   "source": [
    "# Decorator'ın subclasslarını oluşturalım."
   ]
  },
  {
   "cell_type": "code",
   "execution_count": 385,
   "id": "57675291",
   "metadata": {},
   "outputs": [],
   "source": [
    "class Olives(Decorator):\n",
    "    def __init__(self,sauce):\n",
    "        Decorator.__init__(self,sauce)\n",
    "        \n",
    "    cost = 2.0"
   ]
  },
  {
   "cell_type": "code",
   "execution_count": 386,
   "id": "b43b0460",
   "metadata": {},
   "outputs": [],
   "source": [
    "class Mushrooms(Decorator):\n",
    "    def __init__(self,sauce):\n",
    "        Decorator.__init__(self,sauce)\n",
    "        \n",
    "    cost = 3.0"
   ]
  },
  {
   "cell_type": "code",
   "execution_count": 387,
   "id": "725d91fe",
   "metadata": {},
   "outputs": [],
   "source": [
    "class GoatCheese(Decorator):\n",
    "    def __init__(self,sauce):\n",
    "        Decorator.__init__(self,sauce)\n",
    "        \n",
    "    cost = 5.0"
   ]
  },
  {
   "cell_type": "code",
   "execution_count": 388,
   "id": "c777c2e2",
   "metadata": {},
   "outputs": [],
   "source": [
    "class Meat(Decorator):\n",
    "    def __init__(self,sauce):\n",
    "        Decorator.__init__(self,sauce)\n",
    "        \n",
    "    cost = 8.0"
   ]
  },
  {
   "cell_type": "code",
   "execution_count": 389,
   "id": "3d55cf2e",
   "metadata": {},
   "outputs": [],
   "source": [
    "class Onions(Decorator):\n",
    "    def __init__(self,sauce):\n",
    "        Decorator.__init__(self,sauce)\n",
    "        \n",
    "    cost = 2.5"
   ]
  },
  {
   "cell_type": "code",
   "execution_count": 390,
   "id": "c1d8aa76",
   "metadata": {},
   "outputs": [],
   "source": [
    "class Corn(Decorator):\n",
    "    def __init__(self,sauce):\n",
    "        Decorator.__init__(self,sauce)\n",
    "        \n",
    "    cost = 4.0"
   ]
  },
  {
   "cell_type": "code",
   "execution_count": 391,
   "id": "1f07092a",
   "metadata": {},
   "outputs": [],
   "source": [
    "# Menüyü ekrana yazdıralım. Sonra müşterinin seçim yapmasını sağlayalım."
   ]
  },
  {
   "cell_type": "code",
   "execution_count": 392,
   "id": "3b36fe18",
   "metadata": {},
   "outputs": [],
   "source": [
    "def main():\n",
    "    with open(\"MENU.txt\") as order_menu:\n",
    "        for i in order_menu:\n",
    "            print(i, end=\"\")"
   ]
  },
  {
   "cell_type": "code",
   "execution_count": 393,
   "id": "6128335c",
   "metadata": {},
   "outputs": [],
   "source": [
    "    menu = { 1: Classic, \n",
    "             2: Margherita, \n",
    "             3: TurkPizza, \n",
    "             4: PlainPizza, \n",
    "            11: Olives, \n",
    "            12: Mushrooms, \n",
    "            13: GoatCheese, \n",
    "            14: Meat, \n",
    "            15: Onions, \n",
    "            16: Corn}"
   ]
  },
  {
   "cell_type": "code",
   "execution_count": null,
   "id": "2c279d65",
   "metadata": {},
   "outputs": [],
   "source": [
    "    number = input(\"Enter the pizza number to order: \")\n",
    "    while number not in [\"1\", \"2\", \"3\", \"4\"]:\n",
    "            number = input(\"You entered the wrong number.\")\n",
    "    order = menu[int(number)]()"
   ]
  },
  {
   "cell_type": "code",
   "execution_count": null,
   "id": "2d5081ab",
   "metadata": {},
   "outputs": [],
   "source": [
    "    number = input(\"Enter the sauce number to order: \")\n",
    "    if number in [\"11\", \"12\", \"13\", \"14\", \"15\", \"16\"]:\n",
    "        order = menu[int(number)](order)    "
   ]
  },
  {
   "cell_type": "code",
   "execution_count": null,
   "id": "cbde453c",
   "metadata": {},
   "outputs": [],
   "source": [
    "# Seçilen ürünlerin toplam fiyatını ekrana yazdıralım."
   ]
  },
  {
   "cell_type": "code",
   "execution_count": null,
   "id": "5f5e62ae",
   "metadata": {},
   "outputs": [],
   "source": [
    "    print(\"\\n\"+ order.get_description().strip() +\n",
    "              \": ₺\" + str(order.get_cost()))\n",
    "    print(\"\\n\")"
   ]
  },
  {
   "cell_type": "code",
   "execution_count": null,
   "id": "6849063c",
   "metadata": {},
   "outputs": [],
   "source": []
  },
  {
   "cell_type": "code",
   "execution_count": null,
   "id": "cfe7250e",
   "metadata": {},
   "outputs": [],
   "source": [
    "# Kullanıcıdan istenilen bilgileri girmesini isteyelim."
   ]
  },
  {
   "cell_type": "code",
   "execution_count": null,
   "id": "96138c2e",
   "metadata": {},
   "outputs": [],
   "source": [
    "    print(\"Your Order Information:\")"
   ]
  },
  {
   "cell_type": "code",
   "execution_count": null,
   "id": "b7f8e83e",
   "metadata": {},
   "outputs": [],
   "source": [
    "    name_surname = input(\"Your name and surname: \")"
   ]
  },
  {
   "cell_type": "code",
   "execution_count": null,
   "id": "dc7079af",
   "metadata": {},
   "outputs": [],
   "source": [
    "    ID_number = input(\"Your TC Identification Number: \")"
   ]
  },
  {
   "cell_type": "code",
   "execution_count": null,
   "id": "d03ae99e",
   "metadata": {},
   "outputs": [],
   "source": [
    "    credit_card_number = input(\"Your Credit Card Number: \")"
   ]
  },
  {
   "cell_type": "code",
   "execution_count": null,
   "id": "59b9806d",
   "metadata": {},
   "outputs": [],
   "source": [
    "    credit_card_password = input(\"Your Credit Card Password: \")"
   ]
  },
  {
   "cell_type": "code",
   "execution_count": null,
   "id": "8bd4c6ea",
   "metadata": {},
   "outputs": [],
   "source": [
    "    order_time = datetime.datetime.now()"
   ]
  },
  {
   "cell_type": "code",
   "execution_count": null,
   "id": "2de8690d",
   "metadata": {},
   "outputs": [],
   "source": []
  },
  {
   "cell_type": "code",
   "execution_count": null,
   "id": "fa64a03d",
   "metadata": {},
   "outputs": [],
   "source": [
    "# Veritabanı olarak adlandırdığımız \"Orders_Database.csv\" dosyasına girilen tüm bilgileri ekleyelim."
   ]
  },
  {
   "cell_type": "code",
   "execution_count": null,
   "id": "75dbcfa4",
   "metadata": {},
   "outputs": [],
   "source": [
    "    with open(\"Orders_Database.csv\", 'a') as orders:\n",
    "            orders = csv.writer(orders, delimiter=',')\n",
    "            orders.writerow([name_surname, ID_number, credit_card_number, credit_card_password, order.get_description(), order_time])\n",
    "    print(\"Your order has been confirmed.\")\n",
    "\n",
    "   "
   ]
  },
  {
   "cell_type": "code",
   "execution_count": null,
   "id": "13c53ec3",
   "metadata": {},
   "outputs": [],
   "source": [
    "main()"
   ]
  },
  {
   "cell_type": "code",
   "execution_count": null,
   "id": "6d282600",
   "metadata": {},
   "outputs": [],
   "source": []
  }
 ],
 "metadata": {
  "kernelspec": {
   "display_name": "Python 3 (ipykernel)",
   "language": "python",
   "name": "python3"
  },
  "language_info": {
   "codemirror_mode": {
    "name": "ipython",
    "version": 3
   },
   "file_extension": ".py",
   "mimetype": "text/x-python",
   "name": "python",
   "nbconvert_exporter": "python",
   "pygments_lexer": "ipython3",
   "version": "3.9.13"
  }
 },
 "nbformat": 4,
 "nbformat_minor": 5
}
